{
 "cells": [
  {
   "cell_type": "code",
   "execution_count": null,
   "id": "7405ae3c",
   "metadata": {
    "scrolled": true
   },
   "outputs": [],
   "source": [
    "coffee_preference = ''\n",
    "\n",
    "if coffee_preference == 'dark':\n",
    "    print('I love a good dark roast!')\n",
    "elif coffee_preference == 'medium':\n",
    "    print('Middle of the road, huh?')\n",
    "elif coffee_preference == 'light':\n",
    "    print('Light roast has the most caffeine!')\n",
    "else:\n",
    "    print('How about some tea then?')"
   ]
  },
  {
   "cell_type": "code",
   "execution_count": null,
   "id": "45ff1157",
   "metadata": {},
   "outputs": [],
   "source": [
    "for number in range(1, 10):\n",
    "    print(number)"
   ]
  },
  {
   "cell_type": "code",
   "execution_count": null,
   "id": "36fc0a92",
   "metadata": {},
   "outputs": [],
   "source": [
    "for letter in 'abcjlnasldsgjk':\n",
    "    print(letter)"
   ]
  },
  {
   "cell_type": "code",
   "execution_count": null,
   "id": "9b905537",
   "metadata": {},
   "outputs": [],
   "source": [
    "languages = ['bash', 'python', 'R', 'clojure']\n",
    "\n",
    "for programming_language in languages:\n",
    "    print(f'{programming_language} is a nice programming language')"
   ]
  },
  {
   "cell_type": "code",
   "execution_count": null,
   "id": "c4822ac7",
   "metadata": {},
   "outputs": [],
   "source": [
    "for programming_language in languages:\n",
    "    if programming_language== 'python':\n",
    "        print(f'{programming_language} is my favorite!')\n",
    "    elif programming_language == 'bash':\n",
    "        print(f'{programming_language} is quite nice.')\n",
    "    else:\n",
    "        print(f'{programming_language} is a nice programming language')"
   ]
  },
  {
   "cell_type": "code",
   "execution_count": null,
   "id": "6f583c35",
   "metadata": {},
   "outputs": [],
   "source": [
    "i = 5\n",
    "while i <= 33:\n",
    "    print(i)\n",
    "    i += 2"
   ]
  },
  {
   "cell_type": "code",
   "execution_count": null,
   "id": "f257d8eb",
   "metadata": {},
   "outputs": [],
   "source": [
    "for n in range(100_000):\n",
    "    print (n)\n",
    "    if n>9:\n",
    "        break"
   ]
  },
  {
   "cell_type": "code",
   "execution_count": null,
   "id": "290481fc",
   "metadata": {},
   "outputs": [],
   "source": []
  },
  {
   "cell_type": "code",
   "execution_count": null,
   "id": "ddedd90a",
   "metadata": {},
   "outputs": [],
   "source": []
  },
  {
   "cell_type": "code",
   "execution_count": null,
   "id": "6a602c0f",
   "metadata": {},
   "outputs": [],
   "source": [
    "for n in range(10):\n",
    "    if n%2 == 0:\n",
    "        continue\n",
    "    print(f'Here is an odd numbe: {n}!')"
   ]
  },
  {
   "cell_type": "markdown",
   "id": "b6289a3f",
   "metadata": {},
   "source": [
    "# Exercises"
   ]
  },
  {
   "cell_type": "code",
   "execution_count": null,
   "id": "b375bb50",
   "metadata": {},
   "outputs": [],
   "source": [
    "# 1 conditional basics\n",
    "#day_of_week = 'monday'\n",
    "\n",
    "#if day_of_week == 'monday':\n",
    "  #  print('looks like somebody has a case of the mondays!')\n",
    "#elif day_of_week == [\"tuesday\", 'wednesday', 'thursday', 'friday']:\n",
    " #   print('Great day for some coding!')\n",
    "#else:\n",
    " #   print('Have a great weekend!')\n",
    "    \n",
    "weekday = 'monday', 'tuesday', 'wednesday', 'thursday', 'friday'\n",
    "weekend = 'saturday', 'sunday'\n",
    "\n",
    "day_of_week = input()\n",
    "\n",
    "if day_of_week == 'weekday':\n",
    "    print('Today is a weekday')\n",
    "elif day_of_week == 'weekend':\n",
    "    print('Have a great weekend!')\n",
    "\n",
    "    \n",
    "day = input\n",
    "\n",
    "if day.lower() in ['monday', 'mon']:\n",
    "    print('Today is Monday')\n",
    "else:\n",
    "    print(f'Today is {day.capitalize()}')\n"
   ]
  },
  {
   "cell_type": "code",
   "execution_count": null,
   "id": "b203cea5",
   "metadata": {},
   "outputs": [],
   "source": []
  },
  {
   "cell_type": "code",
   "execution_count": null,
   "id": "bccd5837",
   "metadata": {},
   "outputs": [],
   "source": []
  },
  {
   "cell_type": "code",
   "execution_count": null,
   "id": "59f899b8",
   "metadata": {},
   "outputs": [],
   "source": [
    "#1.b\n",
    "\n",
    "day_of_week = input('what day is it?')\n",
    "\n",
    "\n",
    "#for day in day_of_week:\n",
    "if day_of_week == 'monday':\n",
    "        print('it is a weekday')\n",
    "elif day_of_week == 'tuesday':\n",
    "        print('it is a weekday')\n",
    "elif day_of_week == 'wednesday':\n",
    "        print('it is a weekday')    \n",
    "elif day_of_week == 'thursday':\n",
    "        print('it is a weekday')\n",
    "elif day_of_week == 'friday':\n",
    "        print('it is a weekday')\n",
    "else:\n",
    "    print('Have a great weekend!')"
   ]
  },
  {
   "cell_type": "code",
   "execution_count": null,
   "id": "5a89b6e4",
   "metadata": {},
   "outputs": [],
   "source": []
  },
  {
   "cell_type": "code",
   "execution_count": null,
   "id": "0cb3f7fd",
   "metadata": {},
   "outputs": [],
   "source": []
  },
  {
   "cell_type": "code",
   "execution_count": 1,
   "id": "e84e5e60",
   "metadata": {},
   "outputs": [
    {
     "name": "stdout",
     "output_type": "stream",
     "text": [
      "This is your OT pay, 2450.0\n"
     ]
    }
   ],
   "source": [
    "#1.c\n",
    "\n",
    "hours_worked = 73\n",
    "rate = 20\n",
    "overtime = (((hours_worked - 40) * rate) * 1.5)\n",
    "total = hours_worked * rate\n",
    "if hours_worked > 40:\n",
    "    print('This is your OT pay,' , total + overtime)\n",
    "else:\n",
    "    print('Your paycheck is' , total , 'dollars.')"
   ]
  },
  {
   "cell_type": "code",
   "execution_count": 2,
   "id": "008efa23",
   "metadata": {},
   "outputs": [
    {
     "name": "stdout",
     "output_type": "stream",
     "text": [
      "5\n",
      "6\n",
      "7\n",
      "8\n",
      "9\n",
      "10\n",
      "11\n",
      "12\n",
      "13\n",
      "14\n",
      "15\n"
     ]
    }
   ],
   "source": [
    "#2.a\n",
    "\n",
    "i = 5\n",
    "while i<=15:\n",
    "    print(i)\n",
    "    i+=1"
   ]
  },
  {
   "cell_type": "code",
   "execution_count": null,
   "id": "cf756b79",
   "metadata": {},
   "outputs": [],
   "source": [
    "#2.a2\n",
    "#count by 2's starting with 0 and ending at 100\n",
    "#Alter your loop to count backwards by 5's from 100 to -10.\n",
    "i = 100\n",
    "while i >= -10:\n",
    "    print(i)\n",
    "    i -= 5"
   ]
  },
  {
   "cell_type": "code",
   "execution_count": null,
   "id": "1bc6e650",
   "metadata": {},
   "outputs": [],
   "source": [
    "#starts at 2, and displays the number squared on each \n",
    "#line while the number is less than 1,000,000\n",
    "\n",
    "i = 2\n",
    "while i < 1000000:\n",
    "    print(i)\n",
    "    i = i * i"
   ]
  },
  {
   "cell_type": "code",
   "execution_count": null,
   "id": "9ec2a3db",
   "metadata": {},
   "outputs": [],
   "source": [
    "#Write a loop that uses print to create the output shown below.\n",
    "\n",
    "i = 100\n",
    "while i >= 5:\n",
    "    print(i)\n",
    "    i -= 5"
   ]
  },
  {
   "cell_type": "code",
   "execution_count": null,
   "id": "519aace5",
   "metadata": {},
   "outputs": [],
   "source": [
    "#2.b\n",
    "#Write some code that prompts the user for a number, then shows a \n",
    "#multiplication table up through 10 for that number.\n",
    "\n",
    "i = int(input('What number would you like to multiply? '))\n",
    "\n",
    "for num in range(1, 11):\n",
    "    ans = i * num\n",
    "    print(i, 'x', num, '=', ans)\n",
    "print('done')\n"
   ]
  },
  {
   "cell_type": "code",
   "execution_count": null,
   "id": "2ec95aa9",
   "metadata": {},
   "outputs": [],
   "source": [
    "#Create a for loop that uses print to create the output shown below.\n",
    "\n",
    "#i = list(range(1, 10))\n",
    "#print(i)\n",
    "i = 1\n",
    "for num in range(1,10):\n",
    "    num = num * i\n",
    "    print(num)\n",
    "\n",
    "print('done')\n",
    "#HAAAAAAALLLLLLLLLLPPPPPPPPPPPP\n",
    "for i in range(1, 10):\n",
    "    print"
   ]
  },
  {
   "cell_type": "code",
   "execution_count": null,
   "id": "91961a48",
   "metadata": {},
   "outputs": [],
   "source": [
    "#2.C\n",
    "\n",
    "numbers = int(input('Please enter a number between 1 and 50',))\n",
    "\n",
    "#prompt if number outsside of range\n",
    "\n",
    "if numbers > 50 and numbers < 1:\n",
    "    print('invalid input, please try again')"
   ]
  },
  {
   "cell_type": "code",
   "execution_count": null,
   "id": "eab400ee",
   "metadata": {},
   "outputs": [],
   "source": [
    "#3 FizzBuzz\n",
    "#Write a program that prints the numbers from 1 to 100.\n",
    "i=1\n",
    "while i <= 100:\n",
    "    print(i)\n",
    "    i +=1\n",
    "#For multiples of three print \"Fizz\" instead of the number\n",
    "if i % 3 == 0:\n",
    "    print(fizz)"
   ]
  },
  {
   "cell_type": "code",
   "execution_count": null,
   "id": "0a80cdc0",
   "metadata": {},
   "outputs": [],
   "source": [
    "for fizzbuzz in range(1, 101):\n",
    "    if fizzbuzz % 3 == 0 and fizzbuzz % 5 == 0:\n",
    "        print(\"fizzbuzz\")\n",
    "        continue\n",
    "    elif fizzbuzz % 3 == 0:\n",
    "        print('fizz')\n",
    "    elif fizzbuzz % 5 == 0:\n",
    "        print('buzz')\n",
    "        continue\n",
    "    print(fizzbuzz)"
   ]
  },
  {
   "cell_type": "code",
   "execution_count": null,
   "id": "132d0ee1",
   "metadata": {},
   "outputs": [],
   "source": []
  },
  {
   "cell_type": "code",
   "execution_count": null,
   "id": "f6a32063",
   "metadata": {},
   "outputs": [],
   "source": [
    "#4 Display a table of powers.\n",
    "x = int(input('Please enter an interger. ', ))\n",
    "y = x ** 2\n",
    "z = x ** 3\n",
    "\n",
    "#print(tabulate([[x, y, z], headers = ['number', 'squared', 'cubed'], tablefmt='orgtbl']))"
   ]
  }
 ],
 "metadata": {
  "kernelspec": {
   "display_name": "Python 3 (ipykernel)",
   "language": "python",
   "name": "python3"
  },
  "language_info": {
   "codemirror_mode": {
    "name": "ipython",
    "version": 3
   },
   "file_extension": ".py",
   "mimetype": "text/x-python",
   "name": "python",
   "nbconvert_exporter": "python",
   "pygments_lexer": "ipython3",
   "version": "3.9.12"
  }
 },
 "nbformat": 4,
 "nbformat_minor": 5
}
