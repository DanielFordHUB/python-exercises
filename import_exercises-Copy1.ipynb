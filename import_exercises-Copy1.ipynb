{
 "cells": [
  {
   "cell_type": "code",
   "execution_count": 10,
   "id": "84bcdc13",
   "metadata": {},
   "outputs": [
    {
     "name": "stdout",
     "output_type": "stream",
     "text": [
      "17 _list_comprehension_exercises.ipynb\r\n",
      "More_on_list_comprehension.ipynb\r\n",
      "Untitled.ipynb\r\n",
      "control_structure_exercises.ipynb\r\n",
      "data_types_and_variables.ipynb\r\n",
      "data_types_and_variables_exercises.ipynb\r\n",
      "firs_notebook.ipynb\r\n",
      "function_exercises.ipynb\r\n",
      "function_exercises.py\r\n",
      "import_exercises.ipynb\r\n",
      "python_introduction_exercises.py\r\n"
     ]
    }
   ],
   "source": [
    "!ls"
   ]
  },
  {
   "cell_type": "code",
   "execution_count": 14,
   "id": "635bdb9f",
   "metadata": {},
   "outputs": [
    {
     "ename": "SyntaxError",
     "evalue": "invalid syntax (function_exercises.py, line 59)",
     "output_type": "error",
     "traceback": [
      "Traceback \u001b[0;36m(most recent call last)\u001b[0m:\n",
      "  File \u001b[1;32m/usr/local/anaconda3/lib/python3.9/site-packages/IPython/core/interactiveshell.py:3369\u001b[0m in \u001b[1;35mrun_code\u001b[0m\n    exec(code_obj, self.user_global_ns, self.user_ns)\n",
      "\u001b[0;36m  Input \u001b[0;32mIn [14]\u001b[0;36m in \u001b[0;35m<cell line: 1>\u001b[0;36m\u001b[0m\n\u001b[0;31m    import function_exercises.py as fe\u001b[0m\n",
      "\u001b[0;36m  File \u001b[0;32m~/codeup_data_science/python-exercises/function_exercises.py:59\u001b[0;36m\u001b[0m\n\u001b[0;31m    if [0] for n.lower() in ['a', 'e', 'i', 'o', 'u']:\u001b[0m\n\u001b[0m           ^\u001b[0m\n\u001b[0;31mSyntaxError\u001b[0m\u001b[0;31m:\u001b[0m invalid syntax\n"
     ]
    }
   ],
   "source": [
    "import function_exercises.py as fe"
   ]
  },
  {
   "cell_type": "code",
   "execution_count": null,
   "id": "90caee98",
   "metadata": {},
   "outputs": [],
   "source": [
    "from function_exercises.py"
   ]
  }
 ],
 "metadata": {
  "kernelspec": {
   "display_name": "Python 3 (ipykernel)",
   "language": "python",
   "name": "python3"
  },
  "language_info": {
   "codemirror_mode": {
    "name": "ipython",
    "version": 3
   },
   "file_extension": ".py",
   "mimetype": "text/x-python",
   "name": "python",
   "nbconvert_exporter": "python",
   "pygments_lexer": "ipython3",
   "version": "3.9.12"
  }
 },
 "nbformat": 4,
 "nbformat_minor": 5
}
