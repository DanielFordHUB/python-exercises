{
 "cells": [
  {
   "cell_type": "code",
   "execution_count": 11,
   "id": "7f5aecc2",
   "metadata": {},
   "outputs": [
    {
     "data": {
      "text/plain": [
       "list"
      ]
     },
     "execution_count": 11,
     "metadata": {},
     "output_type": "execute_result"
    }
   ],
   "source": [
    "type([{}])"
   ]
  },
  {
   "cell_type": "markdown",
   "id": "cb23792b",
   "metadata": {},
   "source": [
    "## What data type would best represent:\n",
    "\n",
    "A term or phrase typed into a search box?\n",
    "- string\n",
    "\n",
    "If a user is logged in?\n",
    "- boolean\n",
    "\n",
    "A discount amount to apply to a user's shopping cart?\n",
    "- float, int (dependant)\n",
    "\n",
    "Whether or not a coupon code is valid?\n",
    "- boolean\n",
    "\n",
    "An email address typed into a registration form?\n",
    "- string\n",
    "\n",
    "The price of a product?\n",
    "- float\n",
    "A Matrix?\n",
    "- list\n",
    "\n",
    "The email addresses collected from a registration form?\n",
    "- list\n",
    "\n",
    "Information about applicants to Codeup's data science program?\n",
    "- dictionary"
   ]
  },
  {
   "cell_type": "code",
   "execution_count": 36,
   "id": "7c4b2a34",
   "metadata": {},
   "outputs": [
    {
     "ename": "TypeError",
     "evalue": "unsupported operand type(s) for +: 'dict' and 'dict'",
     "output_type": "error",
     "traceback": [
      "\u001b[0;31m---------------------------------------------------------------------------\u001b[0m",
      "\u001b[0;31mTypeError\u001b[0m                                 Traceback (most recent call last)",
      "Input \u001b[0;32mIn [36]\u001b[0m, in \u001b[0;36m<cell line: 1>\u001b[0;34m()\u001b[0m\n\u001b[0;32m----> 1\u001b[0m \u001b[43m{\u001b[49m\u001b[43m}\u001b[49m\u001b[43m \u001b[49m\u001b[38;5;241;43m+\u001b[39;49m\u001b[43m \u001b[49m\u001b[43m{\u001b[49m\u001b[43m}\u001b[49m\n",
      "\u001b[0;31mTypeError\u001b[0m: unsupported operand type(s) for +: 'dict' and 'dict'"
     ]
    }
   ],
   "source": [
    "\n",
    "{} + {}"
   ]
  }
 ],
 "metadata": {
  "kernelspec": {
   "display_name": "Python 3 (ipykernel)",
   "language": "python",
   "name": "python3"
  },
  "language_info": {
   "codemirror_mode": {
    "name": "ipython",
    "version": 3
   },
   "file_extension": ".py",
   "mimetype": "text/x-python",
   "name": "python",
   "nbconvert_exporter": "python",
   "pygments_lexer": "ipython3",
   "version": "3.9.12"
  }
 },
 "nbformat": 4,
 "nbformat_minor": 5
}
