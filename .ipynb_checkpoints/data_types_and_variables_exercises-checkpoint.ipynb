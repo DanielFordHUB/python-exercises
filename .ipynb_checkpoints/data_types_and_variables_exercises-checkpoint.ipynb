{
 "cells": [
  {
   "cell_type": "code",
   "execution_count": 11,
   "id": "7f5aecc2",
   "metadata": {},
   "outputs": [
    {
     "data": {
      "text/plain": [
       "list"
      ]
     },
     "execution_count": 11,
     "metadata": {},
     "output_type": "execute_result"
    }
   ],
   "source": [
    "type([{}])"
   ]
  },
  {
   "cell_type": "markdown",
   "id": "cb23792b",
   "metadata": {},
   "source": [
    "## What data type would best represent:\n",
    "\n",
    "A term or phrase typed into a search box?\n",
    "- string\n",
    "\n",
    "If a user is logged in?\n",
    "- boolean\n",
    "\n",
    "A discount amount to apply to a user's shopping cart?\n",
    "- float, int (dependant)\n",
    "\n",
    "Whether or not a coupon code is valid?\n",
    "- boolean\n",
    "\n",
    "An email address typed into a registration form?\n",
    "- string\n",
    "\n",
    "The price of a product?\n",
    "- float\n",
    "A Matrix?\n",
    "- list\n",
    "\n",
    "The email addresses collected from a registration form?\n",
    "- list\n",
    "\n",
    "Information about applicants to Codeup's data science program?\n",
    "- dictionary"
   ]
  },
  {
   "cell_type": "code",
   "execution_count": 1,
   "id": "7c4b2a34",
   "metadata": {},
   "outputs": [
    {
     "data": {
      "text/plain": [
       "27"
      ]
     },
     "execution_count": 1,
     "metadata": {},
     "output_type": "execute_result"
    }
   ],
   "source": [
    "\n",
    "little_mermaid_days = 3\n",
    "brother_bear_days = 5\n",
    "hercules_days = 1\n",
    "cost_per_day = 3\n",
    "total = little_mermaid_days * cost_per_day + hercules_days * cost_per_day + brother_bear_days * cost_per_day\n",
    "total"
   ]
  },
  {
   "cell_type": "code",
   "execution_count": 2,
   "id": "1df5bac4",
   "metadata": {},
   "outputs": [
    {
     "data": {
      "text/plain": [
       "6530"
      ]
     },
     "execution_count": 2,
     "metadata": {},
     "output_type": "execute_result"
    }
   ],
   "source": [
    "hourly_rate_google = 400\n",
    "hourly_rate_amazon = 380\n",
    "hourly_rate_facebook = 350\n",
    "\n",
    "hours_worked_google = 8\n",
    "hours_worked_amazon = 6\n",
    "hours_worked_facebook = 3\n",
    "\n",
    "# make calculations using variables\n",
    "total_pay_google = hourly_rate_google * hours_worked_google\n",
    "total_pay_amazon = hourly_rate_amazon * hours_worked_amazon\n",
    "total_pay_facebook = hourly_rate_facebook * hours_worked_facebook\n",
    "\n",
    "total_pay = total_pay_google + total_pay_amazon + total_pay_facebook\n",
    "\n",
    "total_pay"
   ]
  },
  {
   "cell_type": "code",
   "execution_count": 3,
   "id": "acf911f6",
   "metadata": {},
   "outputs": [
    {
     "data": {
      "text/plain": [
       "False"
      ]
     },
     "execution_count": 3,
     "metadata": {},
     "output_type": "execute_result"
    }
   ],
   "source": [
    "class_has_room = True\n",
    "schedule_works = False\n",
    "\n",
    "can_be_enrolled = class_has_room and schedule_works\n",
    "can_be_enrolled"
   ]
  },
  {
   "cell_type": "code",
   "execution_count": 4,
   "id": "67379f89",
   "metadata": {},
   "outputs": [
    {
     "data": {
      "text/plain": [
       "True"
      ]
     },
     "execution_count": 4,
     "metadata": {},
     "output_type": "execute_result"
    }
   ],
   "source": [
    "buying_more_than_2 = False\n",
    "offer_still_good = True\n",
    "is_premium_member = True\n",
    "\n",
    "offer_can_be_applied = offer_still_good and (buying_more_than_2 or is_premium_member)\n",
    "offer_can_be_applied "
   ]
  },
  {
   "cell_type": "code",
   "execution_count": 6,
   "id": "173184f4",
   "metadata": {},
   "outputs": [],
   "source": [
    "username = 'codeup'\n",
    "password = 'notastrongpassword'"
   ]
  },
  {
   "cell_type": "code",
   "execution_count": 7,
   "id": "98c0944e",
   "metadata": {},
   "outputs": [
    {
     "data": {
      "text/plain": [
       "True"
      ]
     },
     "execution_count": 7,
     "metadata": {},
     "output_type": "execute_result"
    }
   ],
   "source": [
    "# is the password atleast five characters?\n",
    "at_least_five_characters = len(password) > 5\n",
    "at_least_five_characters"
   ]
  },
  {
   "cell_type": "code",
   "execution_count": 8,
   "id": "a5cd3866",
   "metadata": {},
   "outputs": [
    {
     "data": {
      "text/plain": [
       "True"
      ]
     },
     "execution_count": 8,
     "metadata": {},
     "output_type": "execute_result"
    }
   ],
   "source": [
    "# is username less than 20 characters?\n",
    "username_20_characters_or_less = len(username) <20\n",
    "username_20_characters_or_less"
   ]
  },
  {
   "cell_type": "code",
   "execution_count": 9,
   "id": "c06abbae",
   "metadata": {},
   "outputs": [],
   "source": [
    "# is the password different than username\n",
    "password_is_different_from_username = username != password"
   ]
  },
  {
   "cell_type": "code",
   "execution_count": 10,
   "id": "b927ef4a",
   "metadata": {},
   "outputs": [],
   "source": [
    "# .strip w/ no specified character defaults to whitespace\n",
    "\"   con tent  \".strip()\n",
    "\n",
    "username_no_whitespace = username == username.strip()\n",
    "password_no_whitespace = password == password.strip()"
   ]
  },
  {
   "cell_type": "code",
   "execution_count": 11,
   "id": "c46d10b9",
   "metadata": {},
   "outputs": [],
   "source": [
    "username_is_good = username_20_characters_or_less and username_no_whitespace\n",
    "password_is_good = at_least_five_characters and password_is_different_from_username and password_no_whitespace\n",
    "\n",
    "credentials_are_good = username_is_good and password_is_good"
   ]
  },
  {
   "cell_type": "code",
   "execution_count": 12,
   "id": "0ab768b9",
   "metadata": {},
   "outputs": [
    {
     "data": {
      "text/plain": [
       "True"
      ]
     },
     "execution_count": 12,
     "metadata": {},
     "output_type": "execute_result"
    }
   ],
   "source": [
    "credentials_are_good"
   ]
  },
  {
   "cell_type": "code",
   "execution_count": null,
   "id": "fb365474",
   "metadata": {},
   "outputs": [],
   "source": []
  },
  {
   "cell_type": "code",
   "execution_count": null,
   "id": "ec08ad7c",
   "metadata": {},
   "outputs": [],
   "source": []
  },
  {
   "cell_type": "code",
   "execution_count": null,
   "id": "95425d52",
   "metadata": {},
   "outputs": [],
   "source": []
  }
 ],
 "metadata": {
  "kernelspec": {
   "display_name": "Python 3 (ipykernel)",
   "language": "python",
   "name": "python3"
  },
  "language_info": {
   "codemirror_mode": {
    "name": "ipython",
    "version": 3
   },
   "file_extension": ".py",
   "mimetype": "text/x-python",
   "name": "python",
   "nbconvert_exporter": "python",
   "pygments_lexer": "ipython3",
   "version": "3.9.12"
  }
 },
 "nbformat": 4,
 "nbformat_minor": 5
}
