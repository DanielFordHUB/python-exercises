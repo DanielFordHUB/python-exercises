{
 "cells": [
  {
   "cell_type": "code",
   "execution_count": 3,
   "id": "ff4a5a73",
   "metadata": {},
   "outputs": [
    {
     "data": {
      "text/plain": [
       "[0, 1, 4, 9, 16, 25, 36, 49, 64, 81]"
      ]
     },
     "execution_count": 3,
     "metadata": {},
     "output_type": "execute_result"
    }
   ],
   "source": [
    "# first 10 perfect squares\n",
    "squares = []\n",
    "for x in range(10):\n",
    "    squares.append(x * x)\n",
    "squares"
   ]
  },
  {
   "cell_type": "code",
   "execution_count": 6,
   "id": "e3aa8d00",
   "metadata": {},
   "outputs": [
    {
     "data": {
      "text/plain": [
       "[1.1772000000000002, 25.4448, 62.467200000000005, 4.9248, 7.322400000000001]"
      ]
     },
     "execution_count": 6,
     "metadata": {},
     "output_type": "execute_result"
    }
   ],
   "source": [
    "#calculate price after tax rate\n",
    "txns = [1.09, 23.56, 57.84, 4.56, 6.78]\n",
    "tax_rate = .08\n",
    "def get_price_with_tax(txn):\n",
    "    return txn * (1 + tax_rate)\n",
    "final_price = map(get_price_with_tax, txns)\n",
    "list(final_price)"
   ]
  },
  {
   "cell_type": "code",
   "execution_count": 8,
   "id": "e3414854",
   "metadata": {},
   "outputs": [
    {
     "data": {
      "text/plain": [
       "[1, 125, 343, 729, 1331]"
      ]
     },
     "execution_count": 8,
     "metadata": {},
     "output_type": "execute_result"
    }
   ],
   "source": [
    "def cube(num):\n",
    "    return num ** 3\n",
    "\n",
    "numbers = [1, 5, 7, 9, 11]\n",
    "\n",
    "cubed = map(cube, numbers)\n",
    "\n",
    "list(cubed)"
   ]
  },
  {
   "cell_type": "code",
   "execution_count": 15,
   "id": "2bcdf898",
   "metadata": {},
   "outputs": [],
   "source": [
    "#Caesar cypher algorithm\n",
    "\n",
    "def rotate_chr(c):\n",
    "    rot_by = 3\n",
    "    c = c.lower()\n",
    "    alphabet = 'abcdefghijklmnopqrstuvwxyz'\n",
    "    #keep punctuation and whitespace\n",
    "    if c not in alphabet:\n",
    "        return c\n",
    "    rotated_pos = ord(c) + rot_by\n",
    "    #if the rotation is inside the alphabet\n",
    "    if rotated_pos <= ord(alphabet[-1]):\n",
    "        return chr(rotated_pos)\n",
    "    #if rotation goes beyond alphabet\n",
    "    return chr(rotated_pos - len(alphabet))"
   ]
  },
  {
   "cell_type": "code",
   "execution_count": 16,
   "id": "371ebaf9",
   "metadata": {},
   "outputs": [
    {
     "data": {
      "text/plain": [
       "'wklv lv d vhfuhw phvvdjh!'"
      ]
     },
     "execution_count": 16,
     "metadata": {},
     "output_type": "execute_result"
    }
   ],
   "source": [
    "#caesar cyoher encryption exaple\n",
    "\"\".join(map(rotate_chr, \"This is a secret message!\"))"
   ]
  },
  {
   "cell_type": "code",
   "execution_count": 17,
   "id": "e0af1df7",
   "metadata": {},
   "outputs": [
    {
     "data": {
      "text/plain": [
       "[(1, 1), (4, 8), (9, 27), (16, 64), (25, 125)]"
      ]
     },
     "execution_count": 17,
     "metadata": {},
     "output_type": "execute_result"
    }
   ],
   "source": [
    "def powers(x):\n",
    "    return x**2, x**3\n",
    "\n",
    "numbers = [1, 2, 3, 4, 5]\n",
    "\n",
    "list(map(powers, numbers))"
   ]
  },
  {
   "cell_type": "code",
   "execution_count": 20,
   "id": "12556567",
   "metadata": {},
   "outputs": [
    {
     "data": {
      "text/plain": [
       "[1, 2, 120, 5040, 479001600, 1307674368000]"
      ]
     },
     "execution_count": 20,
     "metadata": {},
     "output_type": "execute_result"
    }
   ],
   "source": [
    "import math\n",
    "\n",
    "numbers = [1, 2, 5, 7, 12, 15]\n",
    "\n",
    "list(map(math.factorial, numbers))"
   ]
  },
  {
   "cell_type": "code",
   "execution_count": 25,
   "id": "cd1e8fc9",
   "metadata": {},
   "outputs": [
    {
     "data": {
      "text/plain": [
       "[36.666666666666664, -5.0, -17.77777777777778, -20.555555555555557]"
      ]
     },
     "execution_count": 25,
     "metadata": {},
     "output_type": "execute_result"
    }
   ],
   "source": [
    "#Converting temperatures\n",
    "def to_farenheit(c):\n",
    "    return 9 / 5 * c + 32\n",
    "\n",
    "def to_celsius(f):\n",
    "    return (f - 32) * 5 / 9\n",
    "\n",
    "celsius_temps = [100, 40, 80]\n",
    "#convert to F\n",
    "list(map(to_farenheit,celsius_temps))\n",
    "\n",
    "farenheit_temps = [98, 23, 0, -5]\n",
    "#convert to celsius\n",
    "list(map(to_celsius, farenheit_temps))"
   ]
  },
  {
   "cell_type": "code",
   "execution_count": null,
   "id": "e2cb3bd0",
   "metadata": {},
   "outputs": [],
   "source": []
  }
 ],
 "metadata": {
  "kernelspec": {
   "display_name": "Python 3 (ipykernel)",
   "language": "python",
   "name": "python3"
  },
  "language_info": {
   "codemirror_mode": {
    "name": "ipython",
    "version": 3
   },
   "file_extension": ".py",
   "mimetype": "text/x-python",
   "name": "python",
   "nbconvert_exporter": "python",
   "pygments_lexer": "ipython3",
   "version": "3.9.12"
  }
 },
 "nbformat": 4,
 "nbformat_minor": 5
}
