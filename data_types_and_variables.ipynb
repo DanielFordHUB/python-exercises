{
 "cells": [
  {
   "cell_type": "code",
   "execution_count": null,
   "id": "d591a000",
   "metadata": {},
   "outputs": [],
   "source": [
    "movies = {'little mermaid': 3, 'brother bear': 5, 'hercules': 1}\n",
    "cost = 3\n",
    "for i in movies:\n",
    "    cost = cost*movies[i]\n",
    "    print(cost)\n",
    "    #should be 27"
   ]
  },
  {
   "cell_type": "code",
   "execution_count": null,
   "id": "30e9c4ad",
   "metadata": {},
   "outputs": [],
   "source": []
  },
  {
   "cell_type": "code",
   "execution_count": null,
   "id": "edccccfd",
   "metadata": {},
   "outputs": [],
   "source": [
    "#You have rented some movies for your kids: The little mermaid (for 3 days), Brother Bear (for 5 days, they love it), and Hercules (1 day, you don't know yet if they're going to like it). If price for a movie per day is 3 dollars, how much will you have to pay?\n",
    "lm=3\n",
    "bb=5\n",
    "h=1\n",
    "cost = (lm + bb + h) * 3\n",
    "print(cost)"
   ]
  },
  {
   "cell_type": "code",
   "execution_count": null,
   "id": "af0e1922",
   "metadata": {},
   "outputs": [],
   "source": []
  },
  {
   "cell_type": "code",
   "execution_count": null,
   "id": "2b2d585e",
   "metadata": {},
   "outputs": [],
   "source": [
    "\n",
    "g=400\n",
    "a=380\n",
    "f=350\n",
    "\n",
    "pay=(g*6)+(a*4)+(f*10)\n",
    "print(pay)"
   ]
  },
  {
   "cell_type": "code",
   "execution_count": null,
   "id": "18050a74",
   "metadata": {
    "scrolled": true
   },
   "outputs": [],
   "source": [
    "pay=[400, 380, 350]\n",
    "hours=[6, 4, 10]\n",
    "print(pay * hours)\n",
    "# wont work"
   ]
  },
  {
   "cell_type": "code",
   "execution_count": null,
   "id": "f87913d8",
   "metadata": {},
   "outputs": [],
   "source": []
  },
  {
   "cell_type": "code",
   "execution_count": 4,
   "id": "c31472c5",
   "metadata": {},
   "outputs": [
    {
     "name": "stdout",
     "output_type": "stream",
     "text": [
      "welcome\n"
     ]
    }
   ],
   "source": [
    "has_room=True\n",
    "schedule_works=True\n",
    "can_be_enrolled=has_room and schedule_works\n",
    "print('welcome')"
   ]
  },
  {
   "cell_type": "code",
   "execution_count": null,
   "id": "48bcfb67",
   "metadata": {},
   "outputs": [],
   "source": []
  },
  {
   "cell_type": "markdown",
   "id": "b02503a7",
   "metadata": {},
   "source": [
    "the password must be at least 5 characters\n",
    "the username must be no more than 20 characters\n",
    "the password must not be the same as the username\n",
    "bonus neither the username or password can start or end with whitespace\n"
   ]
  },
  {
   "cell_type": "code",
   "execution_count": null,
   "id": "333629a3",
   "metadata": {},
   "outputs": [],
   "source": [
    "username = input(\"Please enter your username : \")\n",
    "\n",
    "password = input(\"Please enter your password : \")\n",
    "x=True\n",
    "while x:\n",
    "    if (len(password)<5 or len(password)>20):\n",
    "        break\n",
    "    elif not ((password) == (username)):\n",
    "        break\n",
    "    else:\n",
    "        print (\"Greetings,\" , username, \"you are now logged in now with a password\")\n",
    "        x=False\n",
    "        break\n",
    "        \n",
    "if x:\n",
    "    print('try again')"
   ]
  },
  {
   "cell_type": "code",
   "execution_count": null,
   "id": "2a61b720",
   "metadata": {},
   "outputs": [],
   "source": []
  }
 ],
 "metadata": {
  "kernelspec": {
   "display_name": "Python 3 (ipykernel)",
   "language": "python",
   "name": "python3"
  },
  "language_info": {
   "codemirror_mode": {
    "name": "ipython",
    "version": 3
   },
   "file_extension": ".py",
   "mimetype": "text/x-python",
   "name": "python",
   "nbconvert_exporter": "python",
   "pygments_lexer": "ipython3",
   "version": "3.9.12"
  }
 },
 "nbformat": 4,
 "nbformat_minor": 5
}
