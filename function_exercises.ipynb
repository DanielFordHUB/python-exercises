{
 "cells": [
  {
   "cell_type": "code",
   "execution_count": 83,
   "id": "e28ade20",
   "metadata": {},
   "outputs": [
    {
     "name": "stdout",
     "output_type": "stream",
     "text": [
      "this is 2!\n"
     ]
    },
    {
     "data": {
      "text/plain": [
       "'2!'"
      ]
     },
     "execution_count": 83,
     "metadata": {},
     "output_type": "execute_result"
    }
   ],
   "source": [
    "#Define a function named is_two. It should accept one input and \n",
    "#return True if the passed input is either the number \n",
    "#or the string 2, False otherwise\n",
    "\n",
    "def is_two(n):\n",
    "    if n == 2 or n == '2' or n.lower() in['two'] :    #__fixed__##<how to lower specify two??????\n",
    "        print('this is 2!')\n",
    "        return '2!'\n",
    "    else:\n",
    "        return 'not 2!'\n",
    "        \n",
    "is_two('2')\n",
    "#nice###################################"
   ]
  },
  {
   "cell_type": "code",
   "execution_count": 35,
   "id": "ef9383fb",
   "metadata": {},
   "outputs": [
    {
     "data": {
      "text/plain": [
       "False"
      ]
     },
     "execution_count": 35,
     "metadata": {},
     "output_type": "execute_result"
    }
   ],
   "source": [
    "#Define a function named is_vowel. It should return True \n",
    "#if the passed string is a vowel, False otherwise.\n",
    "\n",
    "def is_vowel(n):\n",
    "    while n.lower() in ['a', 'e', 'i', 'o', 'u']:\n",
    "        return True\n",
    "    else:\n",
    "        return False\n",
    "is_vowel('2')\n",
    "##################_____done_______"
   ]
  },
  {
   "cell_type": "code",
   "execution_count": 85,
   "id": "38773571",
   "metadata": {},
   "outputs": [
    {
     "data": {
      "text/plain": [
       "True"
      ]
     },
     "execution_count": 85,
     "metadata": {},
     "output_type": "execute_result"
    }
   ],
   "source": [
    "#3 Define consonant\n",
    "\n",
    "def is_consonant(n):\n",
    "    while n.lower() in ['a', 'e', 'i', 'o', 'u']:\n",
    "        return False\n",
    "    else:\n",
    "        return True\n",
    "is_consonant('W')\n",
    "##############________done___________"
   ]
  },
  {
   "cell_type": "code",
   "execution_count": 84,
   "id": "9e1fb6c3",
   "metadata": {},
   "outputs": [
    {
     "ename": "SyntaxError",
     "evalue": "invalid syntax (4293148451.py, line 6)",
     "output_type": "error",
     "traceback": [
      "\u001b[0;36m  Input \u001b[0;32mIn [84]\u001b[0;36m\u001b[0m\n\u001b[0;31m    if [0] for n.lower() in ['a', 'e', 'i', 'o', 'u']:\u001b[0m\n\u001b[0m           ^\u001b[0m\n\u001b[0;31mSyntaxError\u001b[0m\u001b[0;31m:\u001b[0m invalid syntax\n"
     ]
    }
   ],
   "source": [
    "#4 Define a function that accepts a string that is a word. \n",
    "#The function should capitalize the first letter of the word \n",
    "#if the word starts with a consonant.\n",
    "\n",
    "def cap_if_cons(string):\n",
    "    if [0] for n.lower() in ['a', 'e', 'i', 'o', 'u']:\n",
    "        return False\n",
    "    else:\n",
    "        return string.capitalize()\n",
    "    \n",
    "cap_if_cons('agsfga')\n",
    "\n",
    "#__________COME BACK TO____________????????????????????????????????????"
   ]
  },
  {
   "cell_type": "code",
   "execution_count": 89,
   "id": "625f8005",
   "metadata": {},
   "outputs": [
    {
     "data": {
      "text/plain": [
       "'Sdfasd'"
      ]
     },
     "execution_count": 89,
     "metadata": {},
     "output_type": "execute_result"
    }
   ],
   "source": [
    "def cap_if_cons(n):\n",
    "    first_letter = n[0]\n",
    "    if is_consonant(first_letter):\n",
    "        n = n.capitalize()\n",
    "    return n\n",
    "cap_if_cons('sdfasd')"
   ]
  },
  {
   "cell_type": "code",
   "execution_count": 59,
   "id": "59b022d0",
   "metadata": {},
   "outputs": [
    {
     "name": "stdout",
     "output_type": "stream",
     "text": [
      "your 20% tip is $ 6.0\n"
     ]
    }
   ],
   "source": [
    "# 5 Define a function named calculate_tip. It should accept a \n",
    "#   tip percentage (a number between 0 and 1) and the \n",
    "#   bill total, and return the amount to tip.\n",
    "\n",
    "def tip(n):\n",
    "    n = n * 0.2\n",
    "    print('your 20% tip is', '$',n)\n",
    "    return\n",
    "tip(30)\n",
    "\n",
    "#_____________________Done\n"
   ]
  },
  {
   "cell_type": "code",
   "execution_count": 82,
   "id": "9dd6006b",
   "metadata": {},
   "outputs": [
    {
     "data": {
      "text/plain": [
       "70.0"
      ]
     },
     "execution_count": 82,
     "metadata": {},
     "output_type": "execute_result"
    }
   ],
   "source": [
    "# 6\n",
    "#Define a function named apply_discount. It should \n",
    "#accept a original price, and a discount percentage, \n",
    "#and return the price after the discount is applied.\n",
    "\n",
    "#def discount(n):\n",
    "   # n = n - (n * 0.30)\n",
    "    #print('Your discounted total is now', '$', n)\n",
    "    #return\n",
    "#discount(25)\n",
    "\n",
    "discount = lambda n: n-(n*.3)\n",
    "discount(100)\n",
    "#___________________DONE"
   ]
  },
  {
   "cell_type": "code",
   "execution_count": 90,
   "id": "389ef037",
   "metadata": {},
   "outputs": [
    {
     "name": "stdout",
     "output_type": "stream",
     "text": [
      "1342543345\n"
     ]
    },
    {
     "data": {
      "text/plain": [
       "'1342543345'"
      ]
     },
     "execution_count": 90,
     "metadata": {},
     "output_type": "execute_result"
    }
   ],
   "source": [
    "# 7\n",
    "\n",
    "# Define a function named handle_commas. \n",
    "#It should accept a string that is a number that \n",
    "#contains commas in it as input, and return a number as output.\n",
    "\n",
    "def handle_commas(s):\n",
    "    s = s.replace(',', '')\n",
    "    int(s)\n",
    "    print(s)\n",
    "    return s\n",
    "\n",
    "handle_commas(\"1,342,543,345\")\n",
    "    \n",
    "    \n"
   ]
  },
  {
   "cell_type": "code",
   "execution_count": 69,
   "id": "24ebc850",
   "metadata": {},
   "outputs": [
    {
     "data": {
      "text/plain": [
       "'   hello, codeup!   '"
      ]
     },
     "execution_count": 69,
     "metadata": {},
     "output_type": "execute_result"
    }
   ],
   "source": [
    "# 8\n",
    "\n",
    "#Define a function named get_letter_grade. It should accept a number \n",
    "#and return the letter grade associated with that number (A-F).\n",
    "\n",
    "def get_letter_grade(g):\n",
    "    "
   ]
  },
  {
   "cell_type": "code",
   "execution_count": null,
   "id": "8515a169",
   "metadata": {},
   "outputs": [],
   "source": [
    "# 9\n",
    "#Define a function named remove_vowels that accepts \n",
    "#a string and returns a string with all the vowels removed.\n",
    "\n",
    "def remove_vowels(v):\n",
    "    out = ''\n",
    "    for char in v:\n",
    "        if is_consonant(v):\n",
    "            out += v\n",
    "    return out"
   ]
  },
  {
   "cell_type": "code",
   "execution_count": null,
   "id": "03b4444d",
   "metadata": {},
   "outputs": [],
   "source": [
    "def remove_vowels(v):\n",
    "    return ''.join([c for c in v ])"
   ]
  },
  {
   "cell_type": "code",
   "execution_count": null,
   "id": "10e6fcb9",
   "metadata": {},
   "outputs": [],
   "source": [
    "# 10\n",
    "#Define a function named normalize_name. It should accept a \n",
    "#string and return a valid python identifier, that is:\n",
    "\n",
    "def normalize_name(n):"
   ]
  },
  {
   "cell_type": "code",
   "execution_count": null,
   "id": "4c0a9f6a",
   "metadata": {},
   "outputs": [],
   "source": [
    "# 11\n",
    "#Write a function named cumulative_sum that accepts a \n",
    "#list of numbers and returns a list \n",
    "#that is the cumulative sum of the numbers in the list.\n",
    "\n",
    "def cumulative_sum(s):\n",
    "    cumulative = []\n",
    "    length = len(s)\n",
    "    cumulative = [sum(s[0:x:1]) for x in range(0, length+1)]\n",
    "    return cumulative[1:]\n",
    "list = [12, 14, 3, 2, 9]"
   ]
  },
  {
   "cell_type": "code",
   "execution_count": null,
   "id": "cdce828d",
   "metadata": {},
   "outputs": [],
   "source": []
  }
 ],
 "metadata": {
  "kernelspec": {
   "display_name": "Python 3 (ipykernel)",
   "language": "python",
   "name": "python3"
  },
  "language_info": {
   "codemirror_mode": {
    "name": "ipython",
    "version": 3
   },
   "file_extension": ".py",
   "mimetype": "text/x-python",
   "name": "python",
   "nbconvert_exporter": "python",
   "pygments_lexer": "ipython3",
   "version": "3.9.12"
  }
 },
 "nbformat": 4,
 "nbformat_minor": 5
}
